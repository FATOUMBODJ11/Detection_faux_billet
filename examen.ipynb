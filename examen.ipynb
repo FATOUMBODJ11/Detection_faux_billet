{
 "cells": [
  {
   "cell_type": "markdown",
   "id": "62a53a47",
   "metadata": {},
   "source": [
    "<div style=\"background: linear-gradient(135deg, #667eea 0%, #764ba2 100%);\">\n",
    "<h1 style=\"padding: 20px; color:#fff; text-align: center;\">EXAMEN MACHINE LEARNING</h1>\n",
    "<h2 style=\"margin: auto; padding: 20px 0; color:#fff; text-align: center\">Detection de faux Billet\n",
    "\n",
    "</h2>\n",
    "</div>"
   ]
  },
  {
   "cell_type": "markdown",
   "id": "536e618e",
   "metadata": {},
   "source": [
    "\n",
    "<div style=\"background: linear-gradient(135deg, #e8d5ff 0%, #d4a5ff 100%); text-align: center; border-radius: 10px; box-shadow: 0 4px 15px rgba(0,0,0,0.1);\">\n",
    "<h2 style=\"padding: 20px; color:#5a4b8a; text-align: center; margin: 0; font-weight: 300; letter-spacing: 1px;\"> ANALYSES GENERALES</h2>\n",
    "</div>\n"
   ]
  },
  {
   "cell_type": "markdown",
   "id": "5edc327b",
   "metadata": {},
   "source": [
    "\n",
    "<div style=\"border: 2px solid #d4a5ff; border-radius: 8px; text-align: center;\">\n",
    "<h2 style=\"margin: auto; padding: 20px; color: #5a4b8a;\">** Importer les librairies** </h2>\n",
    "</div>"
   ]
  },
  {
   "cell_type": "code",
   "execution_count": 1,
   "id": "f5a0f7fa",
   "metadata": {},
   "outputs": [],
   "source": [
    "# ** Importer les librairies**\n",
    "import pandas as pd\n",
    "import numpy as np\n",
    "import seaborn as sns\n",
    "from sklearn.model_selection import train_test_split  \n",
    "from sklearn.preprocessing import StandardScaler      \n",
    "from sklearn.linear_model import LogisticRegression\n",
    "from sklearn.metrics import classification_report, confusion_matrix, roc_auc_score, roc_curve \n",
    "from sklearn.cluster import KMeans\n",
    "from sklearn.metrics import accuracy_score\n",
    "import numpy as np\n",
    "from scipy.stats import mode\n",
    "from sklearn.model_selection import cross_val_score, StratifiedKFold\n",
    "\n"
   ]
  },
  {
   "cell_type": "code",
   "execution_count": 2,
   "id": "21ff9513",
   "metadata": {},
   "outputs": [],
   "source": [
    "df = pd.read_csv(\"billets.csv\", sep = ';')"
   ]
  },
  {
   "cell_type": "code",
   "execution_count": 7,
   "id": "cef409d1",
   "metadata": {},
   "outputs": [
    {
     "data": {
      "text/html": [
       "<div>\n",
       "<style scoped>\n",
       "    .dataframe tbody tr th:only-of-type {\n",
       "        vertical-align: middle;\n",
       "    }\n",
       "\n",
       "    .dataframe tbody tr th {\n",
       "        vertical-align: top;\n",
       "    }\n",
       "\n",
       "    .dataframe thead th {\n",
       "        text-align: right;\n",
       "    }\n",
       "</style>\n",
       "<table border=\"1\" class=\"dataframe\">\n",
       "  <thead>\n",
       "    <tr style=\"text-align: right;\">\n",
       "      <th></th>\n",
       "      <th>is_genuine</th>\n",
       "      <th>diagonal</th>\n",
       "      <th>height_left</th>\n",
       "      <th>height_right</th>\n",
       "      <th>margin_low</th>\n",
       "      <th>margin_up</th>\n",
       "      <th>length</th>\n",
       "    </tr>\n",
       "  </thead>\n",
       "  <tbody>\n",
       "    <tr>\n",
       "      <th>0</th>\n",
       "      <td>True</td>\n",
       "      <td>171.81</td>\n",
       "      <td>104.86</td>\n",
       "      <td>104.95</td>\n",
       "      <td>4.52</td>\n",
       "      <td>2.89</td>\n",
       "      <td>112.83</td>\n",
       "    </tr>\n",
       "    <tr>\n",
       "      <th>1</th>\n",
       "      <td>True</td>\n",
       "      <td>171.46</td>\n",
       "      <td>103.36</td>\n",
       "      <td>103.66</td>\n",
       "      <td>3.77</td>\n",
       "      <td>2.99</td>\n",
       "      <td>113.09</td>\n",
       "    </tr>\n",
       "    <tr>\n",
       "      <th>2</th>\n",
       "      <td>True</td>\n",
       "      <td>172.69</td>\n",
       "      <td>104.48</td>\n",
       "      <td>103.50</td>\n",
       "      <td>4.40</td>\n",
       "      <td>2.94</td>\n",
       "      <td>113.16</td>\n",
       "    </tr>\n",
       "    <tr>\n",
       "      <th>3</th>\n",
       "      <td>True</td>\n",
       "      <td>171.36</td>\n",
       "      <td>103.91</td>\n",
       "      <td>103.94</td>\n",
       "      <td>3.62</td>\n",
       "      <td>3.01</td>\n",
       "      <td>113.51</td>\n",
       "    </tr>\n",
       "    <tr>\n",
       "      <th>4</th>\n",
       "      <td>True</td>\n",
       "      <td>171.73</td>\n",
       "      <td>104.28</td>\n",
       "      <td>103.46</td>\n",
       "      <td>4.04</td>\n",
       "      <td>3.48</td>\n",
       "      <td>112.54</td>\n",
       "    </tr>\n",
       "  </tbody>\n",
       "</table>\n",
       "</div>"
      ],
      "text/plain": [
       "   is_genuine  diagonal  height_left  height_right  margin_low  margin_up  \\\n",
       "0        True    171.81       104.86        104.95        4.52       2.89   \n",
       "1        True    171.46       103.36        103.66        3.77       2.99   \n",
       "2        True    172.69       104.48        103.50        4.40       2.94   \n",
       "3        True    171.36       103.91        103.94        3.62       3.01   \n",
       "4        True    171.73       104.28        103.46        4.04       3.48   \n",
       "\n",
       "   length  \n",
       "0  112.83  \n",
       "1  113.09  \n",
       "2  113.16  \n",
       "3  113.51  \n",
       "4  112.54  "
      ]
     },
     "execution_count": 7,
     "metadata": {},
     "output_type": "execute_result"
    }
   ],
   "source": [
    "df.head(5)"
   ]
  },
  {
   "cell_type": "code",
   "execution_count": 4,
   "id": "40bf802e",
   "metadata": {},
   "outputs": [
    {
     "data": {
      "text/html": [
       "<div>\n",
       "<style scoped>\n",
       "    .dataframe tbody tr th:only-of-type {\n",
       "        vertical-align: middle;\n",
       "    }\n",
       "\n",
       "    .dataframe tbody tr th {\n",
       "        vertical-align: top;\n",
       "    }\n",
       "\n",
       "    .dataframe thead th {\n",
       "        text-align: right;\n",
       "    }\n",
       "</style>\n",
       "<table border=\"1\" class=\"dataframe\">\n",
       "  <thead>\n",
       "    <tr style=\"text-align: right;\">\n",
       "      <th></th>\n",
       "      <th>count</th>\n",
       "      <th>mean</th>\n",
       "      <th>std</th>\n",
       "      <th>min</th>\n",
       "      <th>25%</th>\n",
       "      <th>50%</th>\n",
       "      <th>75%</th>\n",
       "      <th>max</th>\n",
       "    </tr>\n",
       "  </thead>\n",
       "  <tbody>\n",
       "    <tr>\n",
       "      <th>diagonal</th>\n",
       "      <td>1500.0</td>\n",
       "      <td>171.958440</td>\n",
       "      <td>0.305195</td>\n",
       "      <td>171.04</td>\n",
       "      <td>171.750</td>\n",
       "      <td>171.96</td>\n",
       "      <td>172.17</td>\n",
       "      <td>173.01</td>\n",
       "    </tr>\n",
       "    <tr>\n",
       "      <th>height_left</th>\n",
       "      <td>1500.0</td>\n",
       "      <td>104.029533</td>\n",
       "      <td>0.299462</td>\n",
       "      <td>103.14</td>\n",
       "      <td>103.820</td>\n",
       "      <td>104.04</td>\n",
       "      <td>104.23</td>\n",
       "      <td>104.88</td>\n",
       "    </tr>\n",
       "    <tr>\n",
       "      <th>height_right</th>\n",
       "      <td>1500.0</td>\n",
       "      <td>103.920307</td>\n",
       "      <td>0.325627</td>\n",
       "      <td>102.82</td>\n",
       "      <td>103.710</td>\n",
       "      <td>103.92</td>\n",
       "      <td>104.15</td>\n",
       "      <td>104.95</td>\n",
       "    </tr>\n",
       "    <tr>\n",
       "      <th>margin_low</th>\n",
       "      <td>1463.0</td>\n",
       "      <td>4.485967</td>\n",
       "      <td>0.663813</td>\n",
       "      <td>2.98</td>\n",
       "      <td>4.015</td>\n",
       "      <td>4.31</td>\n",
       "      <td>4.87</td>\n",
       "      <td>6.90</td>\n",
       "    </tr>\n",
       "    <tr>\n",
       "      <th>margin_up</th>\n",
       "      <td>1500.0</td>\n",
       "      <td>3.151473</td>\n",
       "      <td>0.231813</td>\n",
       "      <td>2.27</td>\n",
       "      <td>2.990</td>\n",
       "      <td>3.14</td>\n",
       "      <td>3.31</td>\n",
       "      <td>3.91</td>\n",
       "    </tr>\n",
       "    <tr>\n",
       "      <th>length</th>\n",
       "      <td>1500.0</td>\n",
       "      <td>112.678500</td>\n",
       "      <td>0.872730</td>\n",
       "      <td>109.49</td>\n",
       "      <td>112.030</td>\n",
       "      <td>112.96</td>\n",
       "      <td>113.34</td>\n",
       "      <td>114.44</td>\n",
       "    </tr>\n",
       "  </tbody>\n",
       "</table>\n",
       "</div>"
      ],
      "text/plain": [
       "               count        mean       std     min      25%     50%     75%  \\\n",
       "diagonal      1500.0  171.958440  0.305195  171.04  171.750  171.96  172.17   \n",
       "height_left   1500.0  104.029533  0.299462  103.14  103.820  104.04  104.23   \n",
       "height_right  1500.0  103.920307  0.325627  102.82  103.710  103.92  104.15   \n",
       "margin_low    1463.0    4.485967  0.663813    2.98    4.015    4.31    4.87   \n",
       "margin_up     1500.0    3.151473  0.231813    2.27    2.990    3.14    3.31   \n",
       "length        1500.0  112.678500  0.872730  109.49  112.030  112.96  113.34   \n",
       "\n",
       "                 max  \n",
       "diagonal      173.01  \n",
       "height_left   104.88  \n",
       "height_right  104.95  \n",
       "margin_low      6.90  \n",
       "margin_up       3.91  \n",
       "length        114.44  "
      ]
     },
     "execution_count": 4,
     "metadata": {},
     "output_type": "execute_result"
    }
   ],
   "source": [
    "df.describe().T"
   ]
  },
  {
   "cell_type": "markdown",
   "id": "99e81aa8",
   "metadata": {},
   "source": [
    "\n",
    "<div style=\"border: 2px solid #d4a5ff; border-radius: 8px; text-align: center;\">\n",
    "<h2 style=\"margin: auto; padding: 20px; color: #5a4b8a;\">** Identifier variable et la nature ** </h2>\n",
    "</div>"
   ]
  },
  {
   "cell_type": "code",
   "execution_count": 5,
   "id": "91e764ac",
   "metadata": {},
   "outputs": [
    {
     "name": "stdout",
     "output_type": "stream",
     "text": [
      "Variables numériques :\n",
      "['diagonal', 'height_left', 'height_right', 'margin_low', 'margin_up', 'length']\n"
     ]
    }
   ],
   "source": [
    "#variables numerique \n",
    "numeriques = df.select_dtypes(include=['int64', 'float64']).columns\n",
    "print(\"Variables numériques :\")\n",
    "print(numeriques.tolist())"
   ]
  },
  {
   "cell_type": "code",
   "execution_count": 8,
   "id": "a73da85a",
   "metadata": {},
   "outputs": [
    {
     "data": {
      "text/plain": [
       "is_genuine         bool\n",
       "diagonal        float64\n",
       "height_left     float64\n",
       "height_right    float64\n",
       "margin_low      float64\n",
       "margin_up       float64\n",
       "length          float64\n",
       "dtype: object"
      ]
     },
     "execution_count": 8,
     "metadata": {},
     "output_type": "execute_result"
    }
   ],
   "source": [
    "df.dtypes "
   ]
  },
  {
   "cell_type": "code",
   "execution_count": null,
   "id": "97358f9e",
   "metadata": {},
   "outputs": [],
   "source": []
  },
  {
   "cell_type": "code",
   "execution_count": 9,
   "id": "5b340e55",
   "metadata": {},
   "outputs": [
    {
     "data": {
      "text/plain": [
       "Index(['diagonal', 'height_left', 'height_right', 'margin_low', 'margin_up',\n",
       "       'length'],\n",
       "      dtype='object')"
      ]
     },
     "execution_count": 9,
     "metadata": {},
     "output_type": "execute_result"
    }
   ],
   "source": [
    "df.select_dtypes(include='number').columns\n"
   ]
  },
  {
   "cell_type": "code",
   "execution_count": 10,
   "id": "a7218b85",
   "metadata": {},
   "outputs": [
    {
     "data": {
      "text/plain": [
       "Index(['is_genuine'], dtype='object')"
      ]
     },
     "execution_count": 10,
     "metadata": {},
     "output_type": "execute_result"
    }
   ],
   "source": [
    "df.select_dtypes(exclude='number').columns"
   ]
  },
  {
   "cell_type": "markdown",
   "id": "15628807",
   "metadata": {},
   "source": [
    "<div style=\"background: linear-gradient(135deg, #e8d5ff 0%, #d4a5ff 100%); text-align: center; border-radius: 10px; box-shadow: 0 4px 15px rgba(0,0,0,0.1);\">\n",
    "<h2 style=\"padding: 20px; color:#5a4b8a; text-align: center; margin: 0; font-weight: 300; letter-spacing: 1px;\"> Nettoyage et préparation des données</h2>\n",
    "</div>"
   ]
  },
  {
   "cell_type": "code",
   "execution_count": 11,
   "id": "f6baf1ca",
   "metadata": {},
   "outputs": [
    {
     "data": {
      "text/plain": [
       "Index(['is_genuine', 'diagonal', 'height_left', 'height_right', 'margin_low',\n",
       "       'margin_up', 'length'],\n",
       "      dtype='object')"
      ]
     },
     "execution_count": 11,
     "metadata": {},
     "output_type": "execute_result"
    }
   ],
   "source": [
    "df.columns"
   ]
  },
  {
   "cell_type": "code",
   "execution_count": 12,
   "id": "89c867a3",
   "metadata": {},
   "outputs": [
    {
     "data": {
      "text/plain": [
       "is_genuine       0\n",
       "diagonal         0\n",
       "height_left      0\n",
       "height_right     0\n",
       "margin_low      37\n",
       "margin_up        0\n",
       "length           0\n",
       "dtype: int64"
      ]
     },
     "execution_count": 12,
     "metadata": {},
     "output_type": "execute_result"
    }
   ],
   "source": [
    "pd.isnull(df).sum()"
   ]
  },
  {
   "cell_type": "code",
   "execution_count": 13,
   "id": "daeaebb8",
   "metadata": {},
   "outputs": [
    {
     "name": "stdout",
     "output_type": "stream",
     "text": [
      "<class 'pandas.core.frame.DataFrame'>\n",
      "RangeIndex: 1500 entries, 0 to 1499\n",
      "Data columns (total 7 columns):\n",
      " #   Column        Non-Null Count  Dtype  \n",
      "---  ------        --------------  -----  \n",
      " 0   is_genuine    1500 non-null   bool   \n",
      " 1   diagonal      1500 non-null   float64\n",
      " 2   height_left   1500 non-null   float64\n",
      " 3   height_right  1500 non-null   float64\n",
      " 4   margin_low    1463 non-null   float64\n",
      " 5   margin_up     1500 non-null   float64\n",
      " 6   length        1500 non-null   float64\n",
      "dtypes: bool(1), float64(6)\n",
      "memory usage: 71.9 KB\n"
     ]
    }
   ],
   "source": [
    "\n",
    "df.info()\n"
   ]
  },
  {
   "cell_type": "code",
   "execution_count": 14,
   "id": "d504909c",
   "metadata": {},
   "outputs": [
    {
     "data": {
      "image/png": "[encoded data removed]",
      "text/plain": [
       "<Figure size 640x480 with 1 Axes>"
      ]
     },
     "metadata": {},
     "output_type": "display_data"
    }
   ],
   "source": [
    "#determinons sis margin low a des outliers ou pas\n",
    "import matplotlib.pyplot as plt\n",
    "\n",
    "df.boxplot(column='margin_low')\n",
    "plt.show()"
   ]
  },
  {
   "cell_type": "code",
   "execution_count": 15,
   "id": "402469b4",
   "metadata": {},
   "outputs": [],
   "source": [
    "df[\"margin_low\"] = df[\"margin_low\"].fillna(df[\"margin_low\"].median())\n"
   ]
  },
  {
   "cell_type": "code",
   "execution_count": 16,
   "id": "33d52840",
   "metadata": {},
   "outputs": [
    {
     "data": {
      "text/plain": [
       "is_genuine      0\n",
       "diagonal        0\n",
       "height_left     0\n",
       "height_right    0\n",
       "margin_low      0\n",
       "margin_up       0\n",
       "length          0\n",
       "dtype: int64"
      ]
     },
     "execution_count": 16,
     "metadata": {},
     "output_type": "execute_result"
    }
   ],
   "source": [
    "pd.isnull(df).sum()\n",
    "\n"
   ]
  },
  {
   "cell_type": "markdown",
   "id": "6d12a868",
   "metadata": {},
   "source": [
    "<div style=\"background: linear-gradient(135deg, #e8d5ff 0%, #d4a5ff 100%); text-align: center; border-radius: 10px; box-shadow: 0 4px 15px rgba(0,0,0,0.1);\">\n",
    "<h2 style=\"padding: 20px; color:#5a4b8a; text-align: center; margin: 0; font-weight: 300; letter-spacing: 1px;\"> Visualisation</h2>\n",
    "</div>"
   ]
  },
  {
   "cell_type": "code",
   "execution_count": 17,
   "id": "7fee23b3",
   "metadata": {},
   "outputs": [
    {
     "data": {
      "image/png": "[encoded data removed]",
      "text/plain": [
       "<Figure size 640x480 with 1 Axes>"
      ]
     },
     "metadata": {},
     "output_type": "display_data"
    }
   ],
   "source": [
    "sns.countplot(x=\"is_genuine\", data=df, palette=\"husl\")\n",
    "\n",
    "plt.title(\"Répartition des Survivants\")\n",
    "\n",
    "plt.show()\n"
   ]
  },
  {
   "cell_type": "markdown",
   "id": "db92ca25",
   "metadata": {},
   "source": [
    "\n",
    "<div style=\"background: linear-gradient(135deg, #e8d5ff 0%, #d4a5ff 100%); text-align: center; border-radius: 10px; box-shadow: 0 4px 15px rgba(0,0,0,0.1);\">\n",
    "<h2 style=\"padding: 20px; color:#5a4b8a; text-align: center; margin: 0; font-weight: 300; letter-spacing: 1px;\"> MODELISATION</h2>\n",
    "</div>"
   ]
  },
  {
   "cell_type": "markdown",
   "id": "170f341c",
   "metadata": {},
   "source": [
    "\n",
    "<div style=\"border: 2px solid #d4a5ff; border-radius: 8px; text-align: center;\">\n",
    "<h2 style=\"margin: auto; padding: 20px; color: #5a4b8a;\">## LogisticRegression ##</h2>\n",
    "</div>"
   ]
  },
  {
   "cell_type": "code",
   "execution_count": 22,
   "id": "cc4aeb91",
   "metadata": {},
   "outputs": [
    {
     "name": "stdout",
     "output_type": "stream",
     "text": [
      "Collecting imbalanced-learn\n",
      "  Downloading imbalanced_learn-0.12.4-py3-none-any.whl (258 kB)\n",
      "     ------------------------------------ 258.3/258.3 kB 220.5 kB/s eta 0:00:00\n",
      "Requirement already satisfied: scikit-learn>=1.0.2 in c:\\users\\user\\anaconda3\\lib\\site-packages (from imbalanced-learn) (1.0.2)\n",
      "Requirement already satisfied: scipy>=1.5.0 in c:\\users\\user\\anaconda3\\lib\\site-packages (from imbalanced-learn) (1.9.1)\n",
      "Requirement already satisfied: threadpoolctl>=2.0.0 in c:\\users\\user\\anaconda3\\lib\\site-packages (from imbalanced-learn) (2.2.0)\n",
      "Collecting joblib>=1.1.1\n",
      "  Downloading joblib-1.5.2-py3-none-any.whl (308 kB)\n",
      "     ------------------------------------ 308.4/308.4 kB 150.3 kB/s eta 0:00:00\n",
      "Requirement already satisfied: numpy>=1.17.3 in c:\\users\\user\\anaconda3\\lib\\site-packages (from imbalanced-learn) (1.21.5)\n",
      "Installing collected packages: joblib, imbalanced-learn\n",
      "  Attempting uninstall: joblib\n",
      "    Found existing installation: joblib 1.1.0\n",
      "    Uninstalling joblib-1.1.0:\n",
      "      Successfully uninstalled joblib-1.1.0\n",
      "Successfully installed imbalanced-learn-0.12.4 joblib-1.5.2\n"
     ]
    }
   ],
   "source": [
    "!pip install imbalanced-learn"
   ]
  },
  {
   "cell_type": "code",
   "execution_count": 29,
   "id": "e8efad8f",
   "metadata": {},
   "outputs": [],
   "source": [
    "X = df.drop(columns=['is_genuine'])\n",
    "y = df['is_genuine']"
   ]
  },
  {
   "cell_type": "code",
   "execution_count": 30,
   "id": "e6f8e274",
   "metadata": {},
   "outputs": [],
   "source": [
    "# Séparation des données/train/test\n",
    "X_train, X_test, y_train, y_test = train_test_split(X, y, test_size=0.2, random_state=42)"
   ]
  },
  {
   "cell_type": "code",
   "execution_count": 31,
   "id": "2f78b57e",
   "metadata": {},
   "outputs": [
    {
     "name": "stdout",
     "output_type": "stream",
     "text": [
      "Répartition après SMOTE : {False: 800, True: 800}\n",
      "Seuil optimal basé sur F1-score : 0.5299033511453578\n",
      "\n",
      "Classification report :\n",
      "               precision    recall  f1-score   support\n",
      "\n",
      "       False       0.99      0.99      0.99       100\n",
      "        True       0.99      0.99      0.99       200\n",
      "\n",
      "    accuracy                           0.99       300\n",
      "   macro avg       0.99      0.99      0.99       300\n",
      "weighted avg       0.99      0.99      0.99       300\n",
      "\n",
      "\n",
      "Confusion matrix :\n",
      " [[ 99   1]\n",
      " [  1 199]]\n"
     ]
    },
    {
     "data": {
      "image/png": "[encoded data removed]",
      "text/plain": [
       "<Figure size 600x400 with 1 Axes>"
      ]
     },
     "metadata": {},
     "output_type": "display_data"
    }
   ],
   "source": [
    "from sklearn.model_selection import train_test_split\n",
    "from sklearn.preprocessing import StandardScaler\n",
    "from sklearn.linear_model import LogisticRegression\n",
    "from sklearn.metrics import classification_report, confusion_matrix, precision_recall_curve\n",
    "from imblearn.over_sampling import SMOTE\n",
    "import matplotlib.pyplot as plt\n",
    "import numpy as np\n",
    "\n",
    "# -----------------------------\n",
    "# 1️⃣ Split stratifié\n",
    "# -----------------------------\n",
    "X_train = X_train.drop(columns=['index_original'], errors='ignore')\n",
    "X_test = X_test.drop(columns=['index_original'], errors='ignore')\n",
    "\n",
    "X_train, X_test, y_train, y_test = train_test_split(\n",
    "    X, y, test_size=0.2, stratify=y, random_state=42\n",
    ")\n",
    "\n",
    "# -----------------------------\n",
    "# 2️⃣ Standardisation\n",
    "# -----------------------------\n",
    "scaler = StandardScaler()\n",
    "X_train_scaled = scaler.fit_transform(X_train)\n",
    "X_test_scaled = scaler.transform(X_test)\n",
    "\n",
    "# -----------------------------\n",
    "# 3️⃣ Appliquer SMOTE si besoin\n",
    "# -----------------------------\n",
    "apply_smote = True  # changer à False si tu veux tester sans SMOTE\n",
    "if apply_smote:\n",
    "    smote = SMOTE(random_state=42)\n",
    "    X_train_scaled, y_train = smote.fit_resample(X_train_scaled, y_train)\n",
    "    print(\"Répartition après SMOTE :\", dict(zip(*np.unique(y_train, return_counts=True))))\n",
    "\n",
    "# -----------------------------\n",
    "# 4️⃣ Créer et entraîner le modèle\n",
    "# -----------------------------\n",
    "model = LogisticRegression(\n",
    "    solver='saga',\n",
    "    max_iter=1000,\n",
    "    class_weight='balanced',\n",
    "    random_state=42\n",
    ")\n",
    "model.fit(X_train_scaled, y_train)\n",
    "\n",
    "# -----------------------------\n",
    "# 5️⃣ Prédictions probabilités\n",
    "# -----------------------------\n",
    "y_proba = model.predict_proba(X_test_scaled)[:,1]  # probabilité classe 1\n",
    "\n",
    "# -----------------------------\n",
    "# 6️⃣ Choisir seuil optimal basé sur le max F1-score\n",
    "# -----------------------------\n",
    "prec, rec, thresholds = precision_recall_curve(y_test, y_proba)\n",
    "f1_scores = 2 * (prec * rec) / (prec + rec)\n",
    "best_thresh = thresholds[np.argmax(f1_scores)]\n",
    "print(\"Seuil optimal basé sur F1-score :\", best_thresh)\n",
    "\n",
    "y_pred = (y_proba >= best_thresh).astype(int)\n",
    "\n",
    "# -----------------------------\n",
    "# 7️⃣ Évaluation\n",
    "# -----------------------------\n",
    "print(\"\\nClassification report :\\n\", classification_report(y_test, y_pred))\n",
    "print(\"\\nConfusion matrix :\\n\", confusion_matrix(y_test, y_pred))\n",
    "\n",
    "# -----------------------------\n",
    "# 8️⃣ Visualiser Precision/Recall vs Threshold\n",
    "# -----------------------------\n",
    "plt.figure(figsize=(6,4))\n",
    "plt.plot(thresholds, prec[:-1], label='Precision')\n",
    "plt.plot(thresholds, rec[:-1], label='Recall')\n",
    "plt.axvline(best_thresh, color='red', linestyle='--', label='Best threshold')\n",
    "plt.xlabel('Threshold')\n",
    "plt.ylabel('Score')\n",
    "plt.title('Precision/Recall vs Threshold')\n",
    "plt.legend()\n",
    "plt.show()\n",
    "\n"
   ]
  },
  {
   "cell_type": "code",
   "execution_count": null,
   "id": "5a27b729",
   "metadata": {},
   "outputs": [],
   "source": []
  },
  {
   "cell_type": "code",
   "execution_count": 71,
   "id": "71863b48",
   "metadata": {},
   "outputs": [],
   "source": []
  },
  {
   "cell_type": "code",
   "execution_count": null,
   "id": "fff62054",
   "metadata": {},
   "outputs": [],
   "source": []
  },
  {
   "cell_type": "code",
   "execution_count": null,
   "id": "d4e10aad",
   "metadata": {},
   "outputs": [],
   "source": [
    "\n"
   ]
  },
  {
   "cell_type": "markdown",
   "id": "e072cbd0",
   "metadata": {},
   "source": [
    "<div style=\"border: 2px solid #d4a5ff; border-radius: 8px; text-align: center;\">\n",
    "<h2 style=\"margin: auto; padding: 20px; color: #5a4b8a;\">## K-MEANS ##</h2>\n",
    "</div>"
   ]
  },
  {
   "cell_type": "code",
   "execution_count": 77,
   "id": "89d92c4d",
   "metadata": {},
   "outputs": [],
   "source": [
    "#Variables indépendantes et dépendantes\n",
    "X = df.drop(columns=['is_genuine'])\n",
    "y = df['is_genuine']\n",
    "\n"
   ]
  },
  {
   "cell_type": "code",
   "execution_count": 78,
   "id": "975c65a7",
   "metadata": {},
   "outputs": [],
   "source": [
    "# Séparation des données/train/test\n",
    "X_train, X_test, y_train, y_test = train_test_split(X, y, test_size=0.2, random_state=42)"
   ]
  },
  {
   "cell_type": "code",
   "execution_count": 79,
   "id": "46c60c1c",
   "metadata": {},
   "outputs": [],
   "source": [
    "# Normalisation # Initialiser/ajuster/transformer\n",
    "scaler = StandardScaler()\n",
    "X_train_scaled = scaler.fit_transform(X_train)\n",
    "X_test_scaled = scaler.transform(X_test)\n",
    "\n"
   ]
  },
  {
   "cell_type": "code",
   "execution_count": 90,
   "id": "7b2767e7",
   "metadata": {},
   "outputs": [
    {
     "name": "stdout",
     "output_type": "stream",
     "text": [
      "Accuracy K-Means: 0.99\n"
     ]
    }
   ],
   "source": [
    "\n",
    "kmeans = KMeans(n_clusters=2, random_state=42)\n",
    "kmeans.fit(X_train_scaled)\n",
    "clusters = kmeans.predict(X_test_scaled)\n",
    "# Les clusters peuvent être inversés par rapport aux vrais labels\n",
    "clusters_adjusted = np.where(clusters == 0, 1, 0)\n",
    "acc = max(accuracy_score(y_test, clusters), accuracy_score(y_test, clusters_adjusted))\n",
    "print(\"Accuracy K-Means:\", acc)\n"
   ]
  },
  {
   "cell_type": "markdown",
   "id": "44ac3654",
   "metadata": {},
   "source": [
    "<div style=\"border: 2px solid #d4a5ff; border-radius: 8px; text-align: center;\">\n",
    "<h2 style=\"margin: auto; padding: 20px; color: #5a4b8a;\">## KNN ##</h2>\n",
    "</div>"
   ]
  },
  {
   "cell_type": "code",
   "execution_count": 95,
   "id": "88cbf7a9",
   "metadata": {},
   "outputs": [
    {
     "name": "stdout",
     "output_type": "stream",
     "text": [
      "Précision du modèle : 0.9933333333333333\n"
     ]
    },
    {
     "data": {
      "text/plain": [
       "0.99"
      ]
     },
     "execution_count": 95,
     "metadata": {},
     "output_type": "execute_result"
    }
   ],
   "source": [
    "import warnings\n",
    "warnings.filterwarnings(\"ignore\", category=FutureWarning)\n",
    "\n",
    "from sklearn.neighbors import KNeighborsClassifier\n",
    "\n",
    "knn = KNeighborsClassifier(n_neighbors=5)\n",
    "knn.fit(X_train_scaled, y_train)\n",
    "y_pred_knn = knn.predict(X_test_scaled)\n",
    "\n",
    "paccuracy = accuracy_score(y_test, y_pred)\n",
    "print(\"Précision du modèle :\", accuracy)\n",
    "accuracy_2dec = round(accuracy, 2)\n",
    "accuracy_2dec"
   ]
  },
  {
   "cell_type": "markdown",
   "id": "757a4b03",
   "metadata": {},
   "source": [
    "<div style=\"border: 2px solid #d4a5ff; border-radius: 8px; text-align: center;\">\n",
    "<h2 style=\"margin: auto; padding: 20px; color: #5a4b8a;\">## Random-Forest ##</h2>\n",
    "</div>"
   ]
  },
  {
   "cell_type": "code",
   "execution_count": 98,
   "id": "d866cc61",
   "metadata": {},
   "outputs": [
    {
     "name": "stdout",
     "output_type": "stream",
     "text": [
      "Précision du modèle : 0.9933333333333333\n"
     ]
    },
    {
     "data": {
      "text/plain": [
       "0.99"
      ]
     },
     "execution_count": 98,
     "metadata": {},
     "output_type": "execute_result"
    }
   ],
   "source": [
    "from sklearn.ensemble import RandomForestClassifier\n",
    "rf = RandomForestClassifier(n_estimators=100, random_state=42)\n",
    "rf.fit(X_train, y_train)\n",
    "y_pred_rf = rf.predict(X_test)\n",
    "\n",
    "accuracy = accuracy_score(y_test, y_pred)\n",
    "print(\"Précision du modèle :\", accuracy)\n",
    "accuracy_2dec = round(accuracy, 2)\n",
    "accuracy_2dec\n"
   ]
  },
  {
   "cell_type": "code",
   "execution_count": 99,
   "id": "58df21a7",
   "metadata": {},
   "outputs": [
    {
     "name": "stdout",
     "output_type": "stream",
     "text": [
      "Random Forest - Accuracy moyenne : 0.9913333333333334\n",
      "Random Forest - Scores : [0.99666667 0.98666667 0.98666667 0.99666667 0.99      ]\n"
     ]
    }
   ],
   "source": [
    "from sklearn.ensemble import RandomForestClassifier\n",
    "\n",
    "rf = RandomForestClassifier(n_estimators=100, random_state=42)\n",
    "scores_rf = cross_val_score(rf, X, y, cv=cv, scoring='accuracy')\n",
    "\n",
    "print(\"Random Forest - Accuracy moyenne :\", np.mean(scores_rf))\n",
    "print(\"Random Forest - Scores :\", scores_rf)\n"
   ]
  },
  {
   "cell_type": "markdown",
   "id": "e033d0a2",
   "metadata": {},
   "source": [
    "<div style=\"border: 2px solid #d4a5ff; border-radius: 8px; text-align: center;\">\n",
    "<h2 style=\"margin: auto; padding: 20px; color: #5a4b8a;\">**Comparaison**</h2>\n",
    "</div>"
   ]
  },
  {
   "cell_type": "code",
   "execution_count": 105,
   "id": "1fcd5680",
   "metadata": {},
   "outputs": [
    {
     "name": "stdout",
     "output_type": "stream",
     "text": [
      "                  Modèle  Accuracy Moyenne  Écart-type\n",
      "0  Régression Logistique          0.992000    0.004000\n",
      "1                    KNN          0.988667    0.004522\n",
      "2          Random Forest          0.991333    0.004522\n",
      "3                K-means          0.985333    0.007180\n"
     ]
    },
    {
     "data": {
      "image/png": "[encoded data removed]",
      "text/plain": [
       "<Figure size 800x500 with 1 Axes>"
      ]
     },
     "metadata": {},
     "output_type": "display_data"
    }
   ],
   "source": [
    "# Validation croisée stratifiée\n",
    "cv = StratifiedKFold(n_splits=5, shuffle=True, random_state=42)\n",
    "\n",
    "# 2. Régression Logistique\n",
    "log_reg = LogisticRegression(max_iter=1000)\n",
    "scores_log = cross_val_score(log_reg, X_scaled, y, cv=cv, scoring='accuracy')\n",
    "\n",
    "# 3. KNN\n",
    "knn = KNeighborsClassifier(n_neighbors=5)\n",
    "scores_knn = cross_val_score(knn, X_scaled, y, cv=cv, scoring='accuracy')\n",
    "\n",
    "# 4. Random Forest\n",
    "\n",
    "rf = RandomForestClassifier(n_estimators=100, random_state=42)\n",
    "scores_rf = cross_val_score(rf, X, y, cv=cv, scoring='accuracy')\n",
    "\n",
    "# 5. K-means \n",
    "\n",
    "scores_kmeans = []\n",
    "for train_idx, test_idx in cv.split(X_scaled, y):\n",
    "    X_train, X_test = X_scaled[train_idx], X_scaled[test_idx]\n",
    "    y_train, y_test = y.iloc[train_idx], y.iloc[test_idx]\n",
    "    \n",
    "    kmeans = KMeans(n_clusters=2, random_state=42)\n",
    "    kmeans.fit(X_train)\n",
    "    clusters = kmeans.predict(X_test)\n",
    "    \n",
    "    # Mapping cluster → classe majoritaire\n",
    "    mapping = {}\n",
    "    for cluster_id in np.unique(clusters):\n",
    "        mask = (clusters == cluster_id)\n",
    "        mapping[cluster_id] = np.bincount(y_test[mask].astype(int)).argmax()\n",
    "    \n",
    "    clusters_mapped = np.array([mapping[c] for c in clusters])\n",
    "    scores_kmeans.append(np.mean(clusters_mapped == y_test))\n",
    "\n",
    "scores_kmeans = np.array(scores_kmeans)\n",
    "\n",
    "\n",
    "# 6. Tableau comparatif\n",
    "\n",
    "results = pd.DataFrame({\n",
    "    'Modèle': ['Régression Logistique', 'KNN', 'Random Forest', 'K-means'],\n",
    "    'Accuracy Moyenne': [\n",
    "        np.mean(scores_log),\n",
    "        np.mean(scores_knn),\n",
    "        np.mean(scores_rf),\n",
    "        np.mean(scores_kmeans)\n",
    "    ],\n",
    "    'Écart-type': [\n",
    "        np.std(scores_log),\n",
    "        np.std(scores_knn),\n",
    "        np.std(scores_rf),\n",
    "        np.std(scores_kmeans)\n",
    "    ]\n",
    "})\n",
    "\n",
    "print(results)\n",
    "\n",
    "\n",
    "# 7. Visualisation\n",
    "\n",
    "import matplotlib.pyplot as plt\n",
    "\n",
    "plt.figure(figsize=(8,5))\n",
    "colors = ['#ff9999', '#66b3ff', '#99ff99', '#ffcc99']\n",
    "plt.bar(results['Modèle'], results['Accuracy Moyenne'], yerr=results['Écart-type'], capsize=5, color=colors)\n",
    "plt.ylabel('Accuracy')\n",
    "plt.title('Comparaison des modèles')\n",
    "plt.ylim(0, 1)\n",
    "plt.show()"
   ]
  },
  {
   "cell_type": "markdown",
   "id": "85f0efea",
   "metadata": {},
   "source": [
    "\n",
    "<div style=\"background: linear-gradient(135deg, #e8d5ff 0%, #d4a5ff 100%); text-align: center; border-radius: 10px; box-shadow: 0 4px 15px rgba(0,0,0,0.1);\">\n",
    "<h2 style=\"padding: 20px; color:#5a4b8a; text-align: center; margin: 0; font-weight: 300; letter-spacing: 1px;\"> ENREGISTREMENT DU MODELE</h2>\n",
    "</div>"
   ]
  },
  {
   "cell_type": "markdown",
   "id": "44e4fcd6",
   "metadata": {},
   "source": [
    "pip install joblib"
   ]
  },
  {
   "cell_type": "code",
   "execution_count": 107,
   "id": "575f42ed",
   "metadata": {},
   "outputs": [
    {
     "name": "stdout",
     "output_type": "stream",
     "text": [
      "Modèle sauvegardé sous : lg_billet.sav\n"
     ]
    }
   ],
   "source": [
    "\n",
    "import joblib\n",
    "\n",
    "# Nom du fichier de sauvegarde\n",
    "model_filename = 'lg_billet.sav'\n",
    "\n",
    "# Sauvegarde du pipeline complet (prétraitement + modèle)\n",
    "joblib.dump(best_pipe, model_filename)\n",
    "\n",
    "print(\"Modèle sauvegardé sous :\", model_filename)\n"
   ]
  },
  {
   "cell_type": "code",
   "execution_count": 108,
   "id": "504d84d7",
   "metadata": {},
   "outputs": [
    {
     "data": {
      "text/plain": [
       "['lg_billet_scaler_25_08_2025.sav']"
      ]
     },
     "execution_count": 108,
     "metadata": {},
     "output_type": "execute_result"
    }
   ],
   "source": [
    "# Enregistrez la normalisation\n",
    "import joblib \n",
    "model_scaler={\n",
    "    'model': best_pipe,\n",
    "    'scaler': scaler}\n",
    "scaler_filename = 'lg_billet_scaler_25_08_2025.sav'\n",
    "\n",
    "# Sauvegarde avec joblib\n",
    "joblib.dump(model_scaler, scaler_filename)"
   ]
  },
  {
   "cell_type": "code",
   "execution_count": 109,
   "id": "80594da9",
   "metadata": {},
   "outputs": [],
   "source": [
    "df = pd.read_csv('billets.csv', sep=';')"
   ]
  },
  {
   "cell_type": "code",
   "execution_count": 110,
   "id": "f5285f60",
   "metadata": {},
   "outputs": [
    {
     "name": "stdout",
     "output_type": "stream",
     "text": [
      "CSV prêt pour l'API : billets_production.csv\n"
     ]
    }
   ],
   "source": [
    "# Garder uniquement les colonnes nécessaires pour l'API\n",
    "expected_columns = ['diagonal','height_left','height_right','margin_low','margin_up','length']\n",
    "df_features = df[expected_columns]\n",
    "\n",
    "# Sauvegarder\n",
    "df_features.to_csv(\"billets_production.csv\", index=False)\n",
    "print(\"CSV prêt pour l'API : billets_production.csv\")\n"
   ]
  },
  {
   "cell_type": "code",
   "execution_count": 111,
   "id": "5a8f921e",
   "metadata": {},
   "outputs": [
    {
     "data": {
      "text/html": [
       "<div>\n",
       "<style scoped>\n",
       "    .dataframe tbody tr th:only-of-type {\n",
       "        vertical-align: middle;\n",
       "    }\n",
       "\n",
       "    .dataframe tbody tr th {\n",
       "        vertical-align: top;\n",
       "    }\n",
       "\n",
       "    .dataframe thead th {\n",
       "        text-align: right;\n",
       "    }\n",
       "</style>\n",
       "<table border=\"1\" class=\"dataframe\">\n",
       "  <thead>\n",
       "    <tr style=\"text-align: right;\">\n",
       "      <th></th>\n",
       "      <th>b_reel</th>\n",
       "      <th>b_pred</th>\n",
       "    </tr>\n",
       "  </thead>\n",
       "  <tbody>\n",
       "    <tr>\n",
       "      <th>0</th>\n",
       "      <td>True</td>\n",
       "      <td>False</td>\n",
       "    </tr>\n",
       "    <tr>\n",
       "      <th>1</th>\n",
       "      <td>True</td>\n",
       "      <td>False</td>\n",
       "    </tr>\n",
       "    <tr>\n",
       "      <th>2</th>\n",
       "      <td>True</td>\n",
       "      <td>True</td>\n",
       "    </tr>\n",
       "    <tr>\n",
       "      <th>3</th>\n",
       "      <td>True</td>\n",
       "      <td>True</td>\n",
       "    </tr>\n",
       "    <tr>\n",
       "      <th>4</th>\n",
       "      <td>True</td>\n",
       "      <td>True</td>\n",
       "    </tr>\n",
       "    <tr>\n",
       "      <th>...</th>\n",
       "      <td>...</td>\n",
       "      <td>...</td>\n",
       "    </tr>\n",
       "    <tr>\n",
       "      <th>295</th>\n",
       "      <td>False</td>\n",
       "      <td>True</td>\n",
       "    </tr>\n",
       "    <tr>\n",
       "      <th>296</th>\n",
       "      <td>False</td>\n",
       "      <td>True</td>\n",
       "    </tr>\n",
       "    <tr>\n",
       "      <th>297</th>\n",
       "      <td>False</td>\n",
       "      <td>False</td>\n",
       "    </tr>\n",
       "    <tr>\n",
       "      <th>298</th>\n",
       "      <td>False</td>\n",
       "      <td>False</td>\n",
       "    </tr>\n",
       "    <tr>\n",
       "      <th>299</th>\n",
       "      <td>False</td>\n",
       "      <td>True</td>\n",
       "    </tr>\n",
       "  </tbody>\n",
       "</table>\n",
       "<p>300 rows × 2 columns</p>\n",
       "</div>"
      ],
      "text/plain": [
       "     b_reel  b_pred\n",
       "0      True   False\n",
       "1      True   False\n",
       "2      True    True\n",
       "3      True    True\n",
       "4      True    True\n",
       "..      ...     ...\n",
       "295   False    True\n",
       "296   False    True\n",
       "297   False   False\n",
       "298   False   False\n",
       "299   False    True\n",
       "\n",
       "[300 rows x 2 columns]"
      ]
     },
     "execution_count": 111,
     "metadata": {},
     "output_type": "execute_result"
    }
   ],
   "source": [
    "df_compare = pd.DataFrame({\n",
    "    'b_reel': y_test.values,\n",
    "    'b_pred': y_pred\n",
    "})\n",
    "\n",
    "df_compare.head(1500)"
   ]
  },
  {
   "cell_type": "code",
   "execution_count": 112,
   "id": "c81751e0",
   "metadata": {},
   "outputs": [
    {
     "name": "stdout",
     "output_type": "stream",
     "text": [
      "['is_genuine', 'diagonal', 'height_left', 'height_right', 'margin_low', 'margin_up', 'length']\n"
     ]
    }
   ],
   "source": [
    "print(df.columns.tolist())"
   ]
  },
  {
   "cell_type": "code",
   "execution_count": 32,
   "id": "415541ba",
   "metadata": {},
   "outputs": [],
   "source": [
    "import joblib \n",
    "model_filename= 'lr_billet.sav'\n",
    "\n",
    "joblib.dump(model,model_filename)\n",
    "import joblib \n",
    "model_scaler={\n",
    "    'model': model,\n",
    "    'scaler': scaler}\n",
    "scaler_filename = 'lr_billet_scaler_29_08_2025.sav'"
   ]
  },
  {
   "cell_type": "code",
   "execution_count": 33,
   "id": "c444e120",
   "metadata": {},
   "outputs": [
    {
     "data": {
      "text/plain": [
       "['lr_billet_scaler_29_08_2025.sav']"
      ]
     },
     "execution_count": 33,
     "metadata": {},
     "output_type": "execute_result"
    }
   ],
   "source": [
    "# Sauvegarde avec joblib\n",
    "joblib.dump(model_scaler, scaler_filename)"
   ]
  },
  {
   "cell_type": "code",
   "execution_count": 34,
   "id": "4aae0f06",
   "metadata": {},
   "outputs": [
    {
     "name": "stdout",
     "output_type": "stream",
     "text": [
      "lr_billet.sav contient : <class 'sklearn.linear_model._logistic.LogisticRegression'>\n",
      "lr_billet_scaler_29_08_2025.sav contient : dict_keys(['model', 'scaler'])\n"
     ]
    }
   ],
   "source": [
    "import joblib\n",
    "\n",
    "# Test avec lr_billet.sav\n",
    "try:\n",
    "    model_only = joblib.load(\"lr_billet.sav\")\n",
    "    print(\"lr_billet.sav contient :\", type(model_only))\n",
    "except Exception as e:\n",
    "    print(\"Erreur lecture lr_billet.sav :\", e)\n",
    "\n",
    "# Test avec lr_billet_scaler_29_08_2025.sav\n",
    "try:\n",
    "    model_scaler = joblib.load(\"lr_billet_scaler_29_08_2025.sav\")\n",
    "    print(\"lr_billet_scaler_29_08_2025.sav contient :\", model_scaler.keys())\n",
    "except Exception as e:\n",
    "    print(\"Erreur lecture lr_billet_scaler_29_08_2025.sav :\", e)\n"
   ]
  },
  {
   "cell_type": "code",
   "execution_count": null,
   "id": "13a6ba11",
   "metadata": {},
   "outputs": [],
   "source": []
  }
 ],
 "metadata": {
  "kernelspec": {
   "display_name": "Python 3 (ipykernel)",
   "language": "python",
   "name": "python3"
  },
  "language_info": {
   "codemirror_mode": {
    "name": "ipython",
    "version": 3
   },
   "file_extension": ".py",
   "mimetype": "text/x-python",
   "name": "python",
   "nbconvert_exporter": "python",
   "pygments_lexer": "ipython3",
   "version": "3.9.13"
  }
 },
 "nbformat": 4,
 "nbformat_minor": 5
}
